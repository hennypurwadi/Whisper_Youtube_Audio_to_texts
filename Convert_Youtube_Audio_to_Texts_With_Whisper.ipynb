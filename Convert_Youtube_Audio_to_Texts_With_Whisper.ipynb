{
 "cells": [
  {
   "cell_type": "markdown",
   "id": "e0cecbbb",
   "metadata": {},
   "source": [
    "https://github.com/openai/whisper?ref=mlq-ai"
   ]
  },
  {
   "cell_type": "markdown",
   "id": "9e8b6f72",
   "metadata": {},
   "source": [
    "pip uninstall ffmpeg\n",
    "\n",
    "pip uninstall ffmpeg-python\n",
    "\n",
    "pip install ffmpeg\n",
    "\n",
    "pip install ffmpeg-python\n",
    "\n",
    "conda install -c conda-forge ffmpeg"
   ]
  },
  {
   "cell_type": "code",
   "execution_count": 1,
   "id": "2900bf26",
   "metadata": {},
   "outputs": [],
   "source": [
    "#!pip install -U openai-whisper\n",
    "#!pip install -— upgrade pytube\n",
    "#!pip install setuptools-rust\n",
    "#!pip install git+https://github.com/openai/whisper.git -q"
   ]
  },
  {
   "cell_type": "code",
   "execution_count": 2,
   "id": "4456b84e",
   "metadata": {},
   "outputs": [
    {
     "name": "stderr",
     "output_type": "stream",
     "text": [
      "[nltk_data] Downloading package punkt to\n",
      "[nltk_data]     C:\\Users\\Asus\\AppData\\Roaming\\nltk_data...\n",
      "[nltk_data]   Package punkt is already up-to-date!\n"
     ]
    }
   ],
   "source": [
    "import pytube\n",
    "#from pytube import YouTube\n",
    "import numpy as np\n",
    "import pandas as pd\n",
    "import whisper\n",
    "import nltk\n",
    "nltk.download('punkt')\n",
    "import warnings\n",
    "warnings.filterwarnings(\"ignore\")"
   ]
  },
  {
   "cell_type": "code",
   "execution_count": 3,
   "id": "e3d1bcd9",
   "metadata": {},
   "outputs": [
    {
     "name": "stdout",
     "output_type": "stream",
     "text": [
      "Collecting package metadata (current_repodata.json): ...working... done\n",
      "Solving environment: ...working... done\n",
      "\n",
      "# All requested packages already installed.\n",
      "\n",
      "\n",
      "Note: you may need to restart the kernel to use updated packages.\n"
     ]
    }
   ],
   "source": [
    "conda install -c conda-forge ffmpeg"
   ]
  },
  {
   "cell_type": "code",
   "execution_count": 4,
   "id": "40f16357",
   "metadata": {},
   "outputs": [
    {
     "data": {
      "text/plain": [
       "'C:\\\\Users\\\\Asus\\\\PYTHON_C\\\\GPT\\\\Whisper\\\\Grocery stores forced to ration as fresh food shortages hit the United Kingdom.mp4'"
      ]
     },
     "execution_count": 4,
     "metadata": {},
     "output_type": "execute_result"
    }
   ],
   "source": [
    "# Reading the YouTube link\n",
    "video = \"https://www.youtube.com/watch?v=mQxtT8ISY9c\"\n",
    "data = pytube.YouTube(video)\n",
    "\n",
    "# Converting and downloading as 'MP4' file\n",
    "audio = data.streams.get_audio_only()\n",
    "audio.download()"
   ]
  },
  {
   "cell_type": "code",
   "execution_count": 5,
   "id": "ab23f1ed",
   "metadata": {},
   "outputs": [],
   "source": [
    "#print(dir(video))"
   ]
  },
  {
   "cell_type": "code",
   "execution_count": 6,
   "id": "10e7d121",
   "metadata": {},
   "outputs": [],
   "source": [
    "import os\n",
    "os.environ['TF_ENABLE_AUTO_MIXED_PRECISION'] = '0'"
   ]
  },
  {
   "cell_type": "code",
   "execution_count": 7,
   "id": "b492625c",
   "metadata": {},
   "outputs": [],
   "source": [
    "#https://www.youtube.com/watch?v=7C6vOcVA1_U"
   ]
  },
  {
   "cell_type": "code",
   "execution_count": 8,
   "id": "f2eb0b8f",
   "metadata": {},
   "outputs": [],
   "source": [
    "model = whisper.load_model(\"base\")\n",
    "text = model.transcribe(\"Grocery stores forced to ration as fresh food shortages hit the United Kingdom.mp4\")"
   ]
  },
  {
   "cell_type": "code",
   "execution_count": 9,
   "id": "1beefc80",
   "metadata": {},
   "outputs": [
    {
     "data": {
      "text/plain": [
       "\" A food shortage in the UK is forcing some supermarkets to ration fruits and vegetables. NSCTV's Vanessa Lee tells us British consumers are dealing with fallout from a combination of factors. We've been to a couple of different supermarkets today, and there are a lot of empty shelves, a lot of signs that say temporarily out of stock. And so that is why more or less every grocery chain here has put limits in place. The one that we went to today called Aldi puts a limit on the number of cucumbers and tomatoes and peppers that people can buy. So it's a limit of three per customer. And the sign says it's so that there is enough to go around for everyone. And really, and at other grocery stores, it's not just the three items I just mentioned, but there's also raspberries that are in short supplies. So they're limiting those as well as bags salad and cauliflower as well. And there are a couple of reasons for this. The first one that you mentioned is weather. So the UK gets a lot of its produce from Morocco and Spain, which has been hit with adverse weather, everything from drought to heavy rain and even a cold snap. It was actually snowing in Morocco yesterday. And Spain has also been hit hard, and its tomato crop is 20% smaller than it was last year. And this combined with another issue because there's a lot of produce that has grown here in the UK as well. But there are local farmers who didn't grow as much this year because of high energy costs. They used the heated greenhouses and because of skyrocketing costs, they did not grow as much. That is why we are seeing this shortage at the supermarket.\""
      ]
     },
     "execution_count": 9,
     "metadata": {},
     "output_type": "execute_result"
    }
   ],
   "source": [
    "#printing transcribed\n",
    "text['text']"
   ]
  },
  {
   "cell_type": "code",
   "execution_count": 10,
   "id": "418e0c57",
   "metadata": {},
   "outputs": [
    {
     "name": "stdout",
     "output_type": "stream",
     "text": [
      "300 rows in the data.\n"
     ]
    },
    {
     "data": {
      "text/html": [
       "<div>\n",
       "<style scoped>\n",
       "    .dataframe tbody tr th:only-of-type {\n",
       "        vertical-align: middle;\n",
       "    }\n",
       "\n",
       "    .dataframe tbody tr th {\n",
       "        vertical-align: top;\n",
       "    }\n",
       "\n",
       "    .dataframe thead th {\n",
       "        text-align: right;\n",
       "    }\n",
       "</style>\n",
       "<table border=\"1\" class=\"dataframe\">\n",
       "  <thead>\n",
       "    <tr style=\"text-align: right;\">\n",
       "      <th></th>\n",
       "      <th>word</th>\n",
       "    </tr>\n",
       "  </thead>\n",
       "  <tbody>\n",
       "    <tr>\n",
       "      <th>0</th>\n",
       "      <td>A</td>\n",
       "    </tr>\n",
       "    <tr>\n",
       "      <th>1</th>\n",
       "      <td>food</td>\n",
       "    </tr>\n",
       "    <tr>\n",
       "      <th>2</th>\n",
       "      <td>shortage</td>\n",
       "    </tr>\n",
       "    <tr>\n",
       "      <th>3</th>\n",
       "      <td>in</td>\n",
       "    </tr>\n",
       "    <tr>\n",
       "      <th>4</th>\n",
       "      <td>the</td>\n",
       "    </tr>\n",
       "  </tbody>\n",
       "</table>\n",
       "</div>"
      ],
      "text/plain": [
       "       word\n",
       "0         A\n",
       "1      food\n",
       "2  shortage\n",
       "3        in\n",
       "4       the"
      ]
     },
     "execution_count": 10,
     "metadata": {},
     "output_type": "execute_result"
    }
   ],
   "source": [
    "# Tokenize transcribed text as words\n",
    "tokens = text['text'].split()\n",
    "\n",
    "# Create a pandas dataframe for each words\n",
    "df = pd.DataFrame(tokens, columns=['word'])\n",
    "\n",
    "print(f\"{len(df)} rows in the data.\")\n",
    "df.head()"
   ]
  },
  {
   "cell_type": "code",
   "execution_count": 11,
   "id": "d7fe9a88",
   "metadata": {},
   "outputs": [
    {
     "data": {
      "text/html": [
       "<div>\n",
       "<style scoped>\n",
       "    .dataframe tbody tr th:only-of-type {\n",
       "        vertical-align: middle;\n",
       "    }\n",
       "\n",
       "    .dataframe tbody tr th {\n",
       "        vertical-align: top;\n",
       "    }\n",
       "\n",
       "    .dataframe thead th {\n",
       "        text-align: right;\n",
       "    }\n",
       "</style>\n",
       "<table border=\"1\" class=\"dataframe\">\n",
       "  <thead>\n",
       "    <tr style=\"text-align: right;\">\n",
       "      <th></th>\n",
       "      <th>sentence</th>\n",
       "    </tr>\n",
       "  </thead>\n",
       "  <tbody>\n",
       "    <tr>\n",
       "      <th>0</th>\n",
       "      <td>A food shortage in the UK is forcing some supermarkets to ration fruits and vegetables.</td>\n",
       "    </tr>\n",
       "    <tr>\n",
       "      <th>1</th>\n",
       "      <td>NSCTV's Vanessa Lee tells us British consumers are dealing with fallout from a combination of factors.</td>\n",
       "    </tr>\n",
       "    <tr>\n",
       "      <th>2</th>\n",
       "      <td>We've been to a couple of different supermarkets today, and there are a lot of empty shelves, a lot of signs that say temporarily out of stock.</td>\n",
       "    </tr>\n",
       "    <tr>\n",
       "      <th>3</th>\n",
       "      <td>And so that is why more or less every grocery chain here has put limits in place.</td>\n",
       "    </tr>\n",
       "    <tr>\n",
       "      <th>4</th>\n",
       "      <td>The one that we went to today called Aldi puts a limit on the number of cucumbers and tomatoes and peppers that people can buy.</td>\n",
       "    </tr>\n",
       "    <tr>\n",
       "      <th>5</th>\n",
       "      <td>So it's a limit of three per customer.</td>\n",
       "    </tr>\n",
       "    <tr>\n",
       "      <th>6</th>\n",
       "      <td>And the sign says it's so that there is enough to go around for everyone.</td>\n",
       "    </tr>\n",
       "    <tr>\n",
       "      <th>7</th>\n",
       "      <td>And really, and at other grocery stores, it's not just the three items I just mentioned, but there's also raspberries that are in short supplies.</td>\n",
       "    </tr>\n",
       "    <tr>\n",
       "      <th>8</th>\n",
       "      <td>So they're limiting those as well as bags salad and cauliflower as well.</td>\n",
       "    </tr>\n",
       "    <tr>\n",
       "      <th>9</th>\n",
       "      <td>And there are a couple of reasons for this.</td>\n",
       "    </tr>\n",
       "    <tr>\n",
       "      <th>10</th>\n",
       "      <td>The first one that you mentioned is weather.</td>\n",
       "    </tr>\n",
       "    <tr>\n",
       "      <th>11</th>\n",
       "      <td>So the UK gets a lot of its produce from Morocco and Spain, which has been hit with adverse weather, everything from drought to heavy rain and even a cold s...</td>\n",
       "    </tr>\n",
       "    <tr>\n",
       "      <th>12</th>\n",
       "      <td>It was actually snowing in Morocco yesterday.</td>\n",
       "    </tr>\n",
       "    <tr>\n",
       "      <th>13</th>\n",
       "      <td>And Spain has also been hit hard, and its tomato crop is 20% smaller than it was last year.</td>\n",
       "    </tr>\n",
       "    <tr>\n",
       "      <th>14</th>\n",
       "      <td>And this combined with another issue because there's a lot of produce that has grown here in the UK as well.</td>\n",
       "    </tr>\n",
       "    <tr>\n",
       "      <th>15</th>\n",
       "      <td>But there are local farmers who didn't grow as much this year because of high energy costs.</td>\n",
       "    </tr>\n",
       "    <tr>\n",
       "      <th>16</th>\n",
       "      <td>They used the heated greenhouses and because of skyrocketing costs, they did not grow as much.</td>\n",
       "    </tr>\n",
       "    <tr>\n",
       "      <th>17</th>\n",
       "      <td>That is why we are seeing this shortage at the supermarket.</td>\n",
       "    </tr>\n",
       "  </tbody>\n",
       "</table>\n",
       "</div>"
      ],
      "text/plain": [
       "                                                                                                                                                           sentence\n",
       "0                                                                           A food shortage in the UK is forcing some supermarkets to ration fruits and vegetables.\n",
       "1                                                            NSCTV's Vanessa Lee tells us British consumers are dealing with fallout from a combination of factors.\n",
       "2                   We've been to a couple of different supermarkets today, and there are a lot of empty shelves, a lot of signs that say temporarily out of stock.\n",
       "3                                                                                 And so that is why more or less every grocery chain here has put limits in place.\n",
       "4                                   The one that we went to today called Aldi puts a limit on the number of cucumbers and tomatoes and peppers that people can buy.\n",
       "5                                                                                                                            So it's a limit of three per customer.\n",
       "6                                                                                         And the sign says it's so that there is enough to go around for everyone.\n",
       "7                 And really, and at other grocery stores, it's not just the three items I just mentioned, but there's also raspberries that are in short supplies.\n",
       "8                                                                                          So they're limiting those as well as bags salad and cauliflower as well.\n",
       "9                                                                                                                       And there are a couple of reasons for this.\n",
       "10                                                                                                                     The first one that you mentioned is weather.\n",
       "11  So the UK gets a lot of its produce from Morocco and Spain, which has been hit with adverse weather, everything from drought to heavy rain and even a cold s...\n",
       "12                                                                                                                    It was actually snowing in Morocco yesterday.\n",
       "13                                                                      And Spain has also been hit hard, and its tomato crop is 20% smaller than it was last year.\n",
       "14                                                     And this combined with another issue because there's a lot of produce that has grown here in the UK as well.\n",
       "15                                                                      But there are local farmers who didn't grow as much this year because of high energy costs.\n",
       "16                                                                   They used the heated greenhouses and because of skyrocketing costs, they did not grow as much.\n",
       "17                                                                                                      That is why we are seeing this shortage at the supermarket."
      ]
     },
     "execution_count": 11,
     "metadata": {},
     "output_type": "execute_result"
    }
   ],
   "source": [
    "#Create sentences dataframes\n",
    "sentences = nltk.sent_tokenize(text['text'])\n",
    "df = pd.DataFrame(sentences, columns=['sentence'])\n",
    "pd.set_option('display.max_colwidth', 160)\n",
    "df.head(60)"
   ]
  },
  {
   "cell_type": "code",
   "execution_count": 12,
   "id": "52b20eda",
   "metadata": {},
   "outputs": [
    {
     "data": {
      "text/plain": [
       "(18, 1)"
      ]
     },
     "execution_count": 12,
     "metadata": {},
     "output_type": "execute_result"
    }
   ],
   "source": [
    "df.shape"
   ]
  },
  {
   "cell_type": "code",
   "execution_count": 13,
   "id": "0a67d88d",
   "metadata": {},
   "outputs": [],
   "source": [
    "df.to_csv(\"Food_Shortage_UK.csv\", index=False)"
   ]
  },
  {
   "cell_type": "code",
   "execution_count": 14,
   "id": "916ca52a",
   "metadata": {},
   "outputs": [
    {
     "data": {
      "text/html": [
       "<div>\n",
       "<style scoped>\n",
       "    .dataframe tbody tr th:only-of-type {\n",
       "        vertical-align: middle;\n",
       "    }\n",
       "\n",
       "    .dataframe tbody tr th {\n",
       "        vertical-align: top;\n",
       "    }\n",
       "\n",
       "    .dataframe thead th {\n",
       "        text-align: right;\n",
       "    }\n",
       "</style>\n",
       "<table border=\"1\" class=\"dataframe\">\n",
       "  <thead>\n",
       "    <tr style=\"text-align: right;\">\n",
       "      <th></th>\n",
       "      <th>sentence</th>\n",
       "    </tr>\n",
       "  </thead>\n",
       "  <tbody>\n",
       "  </tbody>\n",
       "</table>\n",
       "</div>"
      ],
      "text/plain": [
       "Empty DataFrame\n",
       "Columns: [sentence]\n",
       "Index: []"
      ]
     },
     "execution_count": 14,
     "metadata": {},
     "output_type": "execute_result"
    }
   ],
   "source": [
    "df_61_onwards = df.iloc[60:]\n",
    "pd.set_option('display.max_colwidth', 160)\n",
    "df_61_onwards.head(50)"
   ]
  }
 ],
 "metadata": {
  "kernelspec": {
   "display_name": "Python 3 (ipykernel)",
   "language": "python",
   "name": "python3"
  },
  "language_info": {
   "codemirror_mode": {
    "name": "ipython",
    "version": 3
   },
   "file_extension": ".py",
   "mimetype": "text/x-python",
   "name": "python",
   "nbconvert_exporter": "python",
   "pygments_lexer": "ipython3",
   "version": "3.9.13"
  },
  "varInspector": {
   "cols": {
    "lenName": 16,
    "lenType": 16,
    "lenVar": 40
   },
   "kernels_config": {
    "python": {
     "delete_cmd_postfix": "",
     "delete_cmd_prefix": "del ",
     "library": "var_list.py",
     "varRefreshCmd": "print(var_dic_list())"
    },
    "r": {
     "delete_cmd_postfix": ") ",
     "delete_cmd_prefix": "rm(",
     "library": "var_list.r",
     "varRefreshCmd": "cat(var_dic_list()) "
    }
   },
   "types_to_exclude": [
    "module",
    "function",
    "builtin_function_or_method",
    "instance",
    "_Feature"
   ],
   "window_display": false
  }
 },
 "nbformat": 4,
 "nbformat_minor": 5
}
