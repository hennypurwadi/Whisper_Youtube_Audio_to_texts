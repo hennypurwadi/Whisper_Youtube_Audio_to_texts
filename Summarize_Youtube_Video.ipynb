{
 "cells": [
  {
   "cell_type": "markdown",
   "id": "1151d457",
   "metadata": {},
   "source": [
    "https://github.com/openai/whisper?ref=mlq-ai"
   ]
  },
  {
   "cell_type": "code",
   "execution_count": 1,
   "id": "2900bf26",
   "metadata": {},
   "outputs": [],
   "source": [
    "#!pip install -U openai-whisper"
   ]
  },
  {
   "cell_type": "code",
   "execution_count": 2,
   "id": "7894c2d4",
   "metadata": {},
   "outputs": [
    {
     "name": "stdout",
     "output_type": "stream",
     "text": [
      "Requirement already satisfied: pytube in c:\\programdata\\anaconda3\\envs\\nlp_env\\lib\\site-packages (12.1.2)\n",
      "Note: you may need to restart the kernel to use updated packages.\n"
     ]
    }
   ],
   "source": [
    "pip install pytube"
   ]
  },
  {
   "cell_type": "code",
   "execution_count": 3,
   "id": "67de49e2",
   "metadata": {},
   "outputs": [
    {
     "name": "stdout",
     "output_type": "stream",
     "text": [
      "Requirement already satisfied: ffmpeg in c:\\programdata\\anaconda3\\envs\\nlp_env\\lib\\site-packages (1.4)\n",
      "Note: you may need to restart the kernel to use updated packages.\n"
     ]
    }
   ],
   "source": [
    "pip install ffmpeg"
   ]
  },
  {
   "cell_type": "code",
   "execution_count": 4,
   "id": "0d538649",
   "metadata": {},
   "outputs": [
    {
     "name": "stdout",
     "output_type": "stream",
     "text": [
      "Requirement already satisfied: setuptools-rust in c:\\programdata\\anaconda3\\envs\\nlp_env\\lib\\site-packages (1.5.2)\n",
      "Requirement already satisfied: semantic-version<3,>=2.8.2 in c:\\programdata\\anaconda3\\envs\\nlp_env\\lib\\site-packages (from setuptools-rust) (2.10.0)\n",
      "Requirement already satisfied: typing-extensions>=3.7.4.3 in c:\\programdata\\anaconda3\\envs\\nlp_env\\lib\\site-packages (from setuptools-rust) (4.4.0)\n",
      "Requirement already satisfied: setuptools>=62.4 in c:\\programdata\\anaconda3\\envs\\nlp_env\\lib\\site-packages (from setuptools-rust) (65.6.3)\n",
      "Note: you may need to restart the kernel to use updated packages.\n"
     ]
    }
   ],
   "source": [
    "pip install setuptools-rust"
   ]
  },
  {
   "cell_type": "code",
   "execution_count": 5,
   "id": "d4fc1ef1",
   "metadata": {},
   "outputs": [],
   "source": [
    "import whisper\n",
    "from pytube import YouTube"
   ]
  },
  {
   "cell_type": "code",
   "execution_count": 6,
   "id": "1ae27f35",
   "metadata": {},
   "outputs": [],
   "source": [
    "model = whisper.load_model('base')"
   ]
  },
  {
   "cell_type": "code",
   "execution_count": 7,
   "id": "599f61b4",
   "metadata": {},
   "outputs": [],
   "source": [
    "youtube_video_url = \"https://www.youtube.com/watch?v=KCnc_LSO55U&t=50s\"\n",
    "youtube_video = YouTube(youtube_video_url)"
   ]
  },
  {
   "cell_type": "code",
   "execution_count": 8,
   "id": "ab23f1ed",
   "metadata": {},
   "outputs": [
    {
     "data": {
      "text/plain": [
       "['__class__',\n",
       " '__delattr__',\n",
       " '__dict__',\n",
       " '__dir__',\n",
       " '__doc__',\n",
       " '__eq__',\n",
       " '__format__',\n",
       " '__ge__',\n",
       " '__getattribute__',\n",
       " '__gt__',\n",
       " '__hash__',\n",
       " '__init__',\n",
       " '__init_subclass__',\n",
       " '__le__',\n",
       " '__lt__',\n",
       " '__module__',\n",
       " '__ne__',\n",
       " '__new__',\n",
       " '__reduce__',\n",
       " '__reduce_ex__',\n",
       " '__repr__',\n",
       " '__setattr__',\n",
       " '__sizeof__',\n",
       " '__str__',\n",
       " '__subclasshook__',\n",
       " '__weakref__',\n",
       " '_age_restricted',\n",
       " '_author',\n",
       " '_embed_html',\n",
       " '_fmt_streams',\n",
       " '_initial_data',\n",
       " '_js',\n",
       " '_js_url',\n",
       " '_metadata',\n",
       " '_player_config_args',\n",
       " '_publish_date',\n",
       " '_title',\n",
       " '_vid_info',\n",
       " '_watch_html',\n",
       " 'age_restricted',\n",
       " 'allow_oauth_cache',\n",
       " 'author',\n",
       " 'bypass_age_gate',\n",
       " 'caption_tracks',\n",
       " 'captions',\n",
       " 'channel_id',\n",
       " 'channel_url',\n",
       " 'check_availability',\n",
       " 'description',\n",
       " 'embed_html',\n",
       " 'embed_url',\n",
       " 'fmt_streams',\n",
       " 'from_id',\n",
       " 'initial_data',\n",
       " 'js',\n",
       " 'js_url',\n",
       " 'keywords',\n",
       " 'length',\n",
       " 'metadata',\n",
       " 'publish_date',\n",
       " 'rating',\n",
       " 'register_on_complete_callback',\n",
       " 'register_on_progress_callback',\n",
       " 'stream_monostate',\n",
       " 'streaming_data',\n",
       " 'streams',\n",
       " 'thumbnail_url',\n",
       " 'title',\n",
       " 'use_oauth',\n",
       " 'vid_info',\n",
       " 'video_id',\n",
       " 'views',\n",
       " 'watch_html',\n",
       " 'watch_url']"
      ]
     },
     "execution_count": 8,
     "metadata": {},
     "output_type": "execute_result"
    }
   ],
   "source": [
    "dir(youtube_video)"
   ]
  },
  {
   "cell_type": "code",
   "execution_count": 9,
   "id": "3f63a2de",
   "metadata": {},
   "outputs": [
    {
     "data": {
      "text/plain": [
       "[<Stream: itag=\"139\" mime_type=\"audio/mp4\" abr=\"48kbps\" acodec=\"mp4a.40.5\" progressive=\"False\" type=\"audio\">, <Stream: itag=\"140\" mime_type=\"audio/mp4\" abr=\"128kbps\" acodec=\"mp4a.40.2\" progressive=\"False\" type=\"audio\">, <Stream: itag=\"249\" mime_type=\"audio/webm\" abr=\"50kbps\" acodec=\"opus\" progressive=\"False\" type=\"audio\">, <Stream: itag=\"250\" mime_type=\"audio/webm\" abr=\"70kbps\" acodec=\"opus\" progressive=\"False\" type=\"audio\">, <Stream: itag=\"251\" mime_type=\"audio/webm\" abr=\"160kbps\" acodec=\"opus\" progressive=\"False\" type=\"audio\">]"
      ]
     },
     "execution_count": 9,
     "metadata": {},
     "output_type": "execute_result"
    }
   ],
   "source": [
    "streams = youtube_video.streams.filter(only_audio=True)\n",
    "streams"
   ]
  },
  {
   "cell_type": "code",
   "execution_count": 10,
   "id": "53c461b3",
   "metadata": {},
   "outputs": [],
   "source": [
    "stream = streams.first()"
   ]
  },
  {
   "cell_type": "code",
   "execution_count": 11,
   "id": "302741be",
   "metadata": {},
   "outputs": [
    {
     "data": {
      "text/plain": [
       "'C:\\\\Users\\\\Asus\\\\PYTHON_C\\\\GPT\\\\Whisper\\\\IU_Uni.mp4'"
      ]
     },
     "execution_count": 11,
     "metadata": {},
     "output_type": "execute_result"
    }
   ],
   "source": [
    "stream.download(filename='IU_Uni.mp4')"
   ]
  },
  {
   "cell_type": "code",
   "execution_count": 12,
   "id": "f317d394",
   "metadata": {},
   "outputs": [],
   "source": [
    "# afile = 'C:\\\\Users\\\\Asus\\\\PYTHON_C\\\\GPT\\\\Whisper\\\\elon_alien.mp4'\n",
    "# afile"
   ]
  },
  {
   "cell_type": "code",
   "execution_count": 13,
   "id": "e7acd2e2",
   "metadata": {},
   "outputs": [
    {
     "name": "stdout",
     "output_type": "stream",
     "text": [
      "Requirement already satisfied: ffmpeg-python in c:\\programdata\\anaconda3\\envs\\nlp_env\\lib\\site-packages (0.2.0)\n",
      "Requirement already satisfied: future in c:\\programdata\\anaconda3\\envs\\nlp_env\\lib\\site-packages (from ffmpeg-python) (0.18.2)\n",
      "Note: you may need to restart the kernel to use updated packages.\n"
     ]
    }
   ],
   "source": [
    "pip install --upgrade ffmpeg-python"
   ]
  },
  {
   "cell_type": "code",
   "execution_count": 14,
   "id": "24b90607",
   "metadata": {},
   "outputs": [
    {
     "name": "stdout",
     "output_type": "stream",
     "text": [
      "Requirement already satisfied: ffmpeg-python in c:\\programdata\\anaconda3\\envs\\nlp_env\\lib\\site-packages (0.2.0)\n",
      "Requirement already satisfied: future in c:\\programdata\\anaconda3\\envs\\nlp_env\\lib\\site-packages (from ffmpeg-python) (0.18.2)\n",
      "Note: you may need to restart the kernel to use updated packages.\n"
     ]
    }
   ],
   "source": [
    "pip install ffmpeg-python"
   ]
  },
  {
   "cell_type": "code",
   "execution_count": 15,
   "id": "da4b125c",
   "metadata": {},
   "outputs": [
    {
     "name": "stdout",
     "output_type": "stream",
     "text": [
      "Note: you may need to restart the kernel to use updated packages.\n"
     ]
    },
    {
     "name": "stderr",
     "output_type": "stream",
     "text": [
      "ERROR: Could not find a version that satisfies the requirement CLI\n",
      "ERROR: No matching distribution found for CLI\n"
     ]
    }
   ],
   "source": [
    "pip install CLI"
   ]
  },
  {
   "cell_type": "code",
   "execution_count": 16,
   "id": "a5578daf",
   "metadata": {},
   "outputs": [
    {
     "name": "stderr",
     "output_type": "stream",
     "text": [
      "C:\\ProgramData\\Anaconda3\\envs\\nlp_env\\lib\\site-packages\\whisper\\transcribe.py:78: UserWarning: FP16 is not supported on CPU; using FP32 instead\n",
      "  warnings.warn(\"FP16 is not supported on CPU; using FP32 instead\")\n"
     ]
    },
    {
     "ename": "AttributeError",
     "evalue": "module 'ffmpeg' has no attribute 'Error'",
     "output_type": "error",
     "traceback": [
      "\u001b[1;31m---------------------------------------------------------------------------\u001b[0m",
      "\u001b[1;31mAttributeError\u001b[0m                            Traceback (most recent call last)",
      "File \u001b[1;32mC:\\ProgramData\\Anaconda3\\envs\\nlp_env\\lib\\site-packages\\whisper\\audio.py:42\u001b[0m, in \u001b[0;36mload_audio\u001b[1;34m(file, sr)\u001b[0m\n\u001b[0;32m     38\u001b[0m \u001b[38;5;28;01mtry\u001b[39;00m:\n\u001b[0;32m     39\u001b[0m     \u001b[38;5;66;03m# This launches a subprocess to decode audio while down-mixing and resampling as necessary.\u001b[39;00m\n\u001b[0;32m     40\u001b[0m     \u001b[38;5;66;03m# Requires the ffmpeg CLI and `ffmpeg-python` package to be installed.\u001b[39;00m\n\u001b[0;32m     41\u001b[0m     out, _ \u001b[38;5;241m=\u001b[39m (\n\u001b[1;32m---> 42\u001b[0m         \u001b[43mffmpeg\u001b[49m\u001b[38;5;241;43m.\u001b[39;49m\u001b[43minput\u001b[49m(file, threads\u001b[38;5;241m=\u001b[39m\u001b[38;5;241m0\u001b[39m)\n\u001b[0;32m     43\u001b[0m         \u001b[38;5;241m.\u001b[39moutput(\u001b[38;5;124m\"\u001b[39m\u001b[38;5;124m-\u001b[39m\u001b[38;5;124m\"\u001b[39m, \u001b[38;5;28mformat\u001b[39m\u001b[38;5;241m=\u001b[39m\u001b[38;5;124m\"\u001b[39m\u001b[38;5;124ms16le\u001b[39m\u001b[38;5;124m\"\u001b[39m, acodec\u001b[38;5;241m=\u001b[39m\u001b[38;5;124m\"\u001b[39m\u001b[38;5;124mpcm_s16le\u001b[39m\u001b[38;5;124m\"\u001b[39m, ac\u001b[38;5;241m=\u001b[39m\u001b[38;5;241m1\u001b[39m, ar\u001b[38;5;241m=\u001b[39msr)\n\u001b[0;32m     44\u001b[0m         \u001b[38;5;241m.\u001b[39mrun(cmd\u001b[38;5;241m=\u001b[39m[\u001b[38;5;124m\"\u001b[39m\u001b[38;5;124mffmpeg\u001b[39m\u001b[38;5;124m\"\u001b[39m, \u001b[38;5;124m\"\u001b[39m\u001b[38;5;124m-nostdin\u001b[39m\u001b[38;5;124m\"\u001b[39m], capture_stdout\u001b[38;5;241m=\u001b[39m\u001b[38;5;28;01mTrue\u001b[39;00m, capture_stderr\u001b[38;5;241m=\u001b[39m\u001b[38;5;28;01mTrue\u001b[39;00m)\n\u001b[0;32m     45\u001b[0m     )\n\u001b[0;32m     46\u001b[0m \u001b[38;5;28;01mexcept\u001b[39;00m ffmpeg\u001b[38;5;241m.\u001b[39mError \u001b[38;5;28;01mas\u001b[39;00m e:\n",
      "\u001b[1;31mAttributeError\u001b[0m: module 'ffmpeg' has no attribute 'input'",
      "\nDuring handling of the above exception, another exception occurred:\n",
      "\u001b[1;31mAttributeError\u001b[0m                            Traceback (most recent call last)",
      "Input \u001b[1;32mIn [16]\u001b[0m, in \u001b[0;36m<cell line: 2>\u001b[1;34m()\u001b[0m\n\u001b[0;32m      1\u001b[0m \u001b[38;5;66;03m# Transcribe audio of YouTube video\u001b[39;00m\n\u001b[1;32m----> 2\u001b[0m output \u001b[38;5;241m=\u001b[39m \u001b[43mmodel\u001b[49m\u001b[38;5;241;43m.\u001b[39;49m\u001b[43mtranscribe\u001b[49m\u001b[43m(\u001b[49m\u001b[38;5;124;43m'\u001b[39;49m\u001b[38;5;124;43mC:/Users/Asus/PYTHON_C/GPT/Whisper/coontent/IU_Uni.mp4\u001b[39;49m\u001b[38;5;124;43m'\u001b[39;49m\u001b[43m,\u001b[49m\u001b[43m \u001b[49m\u001b[43mlanguage\u001b[49m\u001b[38;5;241;43m=\u001b[39;49m\u001b[38;5;124;43m'\u001b[39;49m\u001b[38;5;124;43menglish\u001b[39;49m\u001b[38;5;124;43m'\u001b[39;49m\u001b[43m)\u001b[49m     \n",
      "File \u001b[1;32mC:\\ProgramData\\Anaconda3\\envs\\nlp_env\\lib\\site-packages\\whisper\\transcribe.py:84\u001b[0m, in \u001b[0;36mtranscribe\u001b[1;34m(model, audio, verbose, temperature, compression_ratio_threshold, logprob_threshold, no_speech_threshold, condition_on_previous_text, **decode_options)\u001b[0m\n\u001b[0;32m     81\u001b[0m \u001b[38;5;28;01mif\u001b[39;00m dtype \u001b[38;5;241m==\u001b[39m torch\u001b[38;5;241m.\u001b[39mfloat32:\n\u001b[0;32m     82\u001b[0m     decode_options[\u001b[38;5;124m\"\u001b[39m\u001b[38;5;124mfp16\u001b[39m\u001b[38;5;124m\"\u001b[39m] \u001b[38;5;241m=\u001b[39m \u001b[38;5;28;01mFalse\u001b[39;00m\n\u001b[1;32m---> 84\u001b[0m mel \u001b[38;5;241m=\u001b[39m \u001b[43mlog_mel_spectrogram\u001b[49m\u001b[43m(\u001b[49m\u001b[43maudio\u001b[49m\u001b[43m)\u001b[49m\n\u001b[0;32m     86\u001b[0m \u001b[38;5;28;01mif\u001b[39;00m decode_options\u001b[38;5;241m.\u001b[39mget(\u001b[38;5;124m\"\u001b[39m\u001b[38;5;124mlanguage\u001b[39m\u001b[38;5;124m\"\u001b[39m, \u001b[38;5;28;01mNone\u001b[39;00m) \u001b[38;5;129;01mis\u001b[39;00m \u001b[38;5;28;01mNone\u001b[39;00m:\n\u001b[0;32m     87\u001b[0m     \u001b[38;5;28;01mif\u001b[39;00m \u001b[38;5;129;01mnot\u001b[39;00m model\u001b[38;5;241m.\u001b[39mis_multilingual:\n",
      "File \u001b[1;32mC:\\ProgramData\\Anaconda3\\envs\\nlp_env\\lib\\site-packages\\whisper\\audio.py:111\u001b[0m, in \u001b[0;36mlog_mel_spectrogram\u001b[1;34m(audio, n_mels)\u001b[0m\n\u001b[0;32m    109\u001b[0m \u001b[38;5;28;01mif\u001b[39;00m \u001b[38;5;129;01mnot\u001b[39;00m torch\u001b[38;5;241m.\u001b[39mis_tensor(audio):\n\u001b[0;32m    110\u001b[0m     \u001b[38;5;28;01mif\u001b[39;00m \u001b[38;5;28misinstance\u001b[39m(audio, \u001b[38;5;28mstr\u001b[39m):\n\u001b[1;32m--> 111\u001b[0m         audio \u001b[38;5;241m=\u001b[39m \u001b[43mload_audio\u001b[49m\u001b[43m(\u001b[49m\u001b[43maudio\u001b[49m\u001b[43m)\u001b[49m\n\u001b[0;32m    112\u001b[0m     audio \u001b[38;5;241m=\u001b[39m torch\u001b[38;5;241m.\u001b[39mfrom_numpy(audio)\n\u001b[0;32m    114\u001b[0m window \u001b[38;5;241m=\u001b[39m torch\u001b[38;5;241m.\u001b[39mhann_window(N_FFT)\u001b[38;5;241m.\u001b[39mto(audio\u001b[38;5;241m.\u001b[39mdevice)\n",
      "File \u001b[1;32mC:\\ProgramData\\Anaconda3\\envs\\nlp_env\\lib\\site-packages\\whisper\\audio.py:46\u001b[0m, in \u001b[0;36mload_audio\u001b[1;34m(file, sr)\u001b[0m\n\u001b[0;32m     38\u001b[0m \u001b[38;5;28;01mtry\u001b[39;00m:\n\u001b[0;32m     39\u001b[0m     \u001b[38;5;66;03m# This launches a subprocess to decode audio while down-mixing and resampling as necessary.\u001b[39;00m\n\u001b[0;32m     40\u001b[0m     \u001b[38;5;66;03m# Requires the ffmpeg CLI and `ffmpeg-python` package to be installed.\u001b[39;00m\n\u001b[0;32m     41\u001b[0m     out, _ \u001b[38;5;241m=\u001b[39m (\n\u001b[0;32m     42\u001b[0m         ffmpeg\u001b[38;5;241m.\u001b[39minput(file, threads\u001b[38;5;241m=\u001b[39m\u001b[38;5;241m0\u001b[39m)\n\u001b[0;32m     43\u001b[0m         \u001b[38;5;241m.\u001b[39moutput(\u001b[38;5;124m\"\u001b[39m\u001b[38;5;124m-\u001b[39m\u001b[38;5;124m\"\u001b[39m, \u001b[38;5;28mformat\u001b[39m\u001b[38;5;241m=\u001b[39m\u001b[38;5;124m\"\u001b[39m\u001b[38;5;124ms16le\u001b[39m\u001b[38;5;124m\"\u001b[39m, acodec\u001b[38;5;241m=\u001b[39m\u001b[38;5;124m\"\u001b[39m\u001b[38;5;124mpcm_s16le\u001b[39m\u001b[38;5;124m\"\u001b[39m, ac\u001b[38;5;241m=\u001b[39m\u001b[38;5;241m1\u001b[39m, ar\u001b[38;5;241m=\u001b[39msr)\n\u001b[0;32m     44\u001b[0m         \u001b[38;5;241m.\u001b[39mrun(cmd\u001b[38;5;241m=\u001b[39m[\u001b[38;5;124m\"\u001b[39m\u001b[38;5;124mffmpeg\u001b[39m\u001b[38;5;124m\"\u001b[39m, \u001b[38;5;124m\"\u001b[39m\u001b[38;5;124m-nostdin\u001b[39m\u001b[38;5;124m\"\u001b[39m], capture_stdout\u001b[38;5;241m=\u001b[39m\u001b[38;5;28;01mTrue\u001b[39;00m, capture_stderr\u001b[38;5;241m=\u001b[39m\u001b[38;5;28;01mTrue\u001b[39;00m)\n\u001b[0;32m     45\u001b[0m     )\n\u001b[1;32m---> 46\u001b[0m \u001b[38;5;28;01mexcept\u001b[39;00m \u001b[43mffmpeg\u001b[49m\u001b[38;5;241;43m.\u001b[39;49m\u001b[43mError\u001b[49m \u001b[38;5;28;01mas\u001b[39;00m e:\n\u001b[0;32m     47\u001b[0m     \u001b[38;5;28;01mraise\u001b[39;00m \u001b[38;5;167;01mRuntimeError\u001b[39;00m(\u001b[38;5;124mf\u001b[39m\u001b[38;5;124m\"\u001b[39m\u001b[38;5;124mFailed to load audio: \u001b[39m\u001b[38;5;132;01m{\u001b[39;00me\u001b[38;5;241m.\u001b[39mstderr\u001b[38;5;241m.\u001b[39mdecode()\u001b[38;5;132;01m}\u001b[39;00m\u001b[38;5;124m\"\u001b[39m) \u001b[38;5;28;01mfrom\u001b[39;00m \u001b[38;5;21;01me\u001b[39;00m\n\u001b[0;32m     49\u001b[0m \u001b[38;5;28;01mreturn\u001b[39;00m np\u001b[38;5;241m.\u001b[39mfrombuffer(out, np\u001b[38;5;241m.\u001b[39mint16)\u001b[38;5;241m.\u001b[39mflatten()\u001b[38;5;241m.\u001b[39mastype(np\u001b[38;5;241m.\u001b[39mfloat32) \u001b[38;5;241m/\u001b[39m \u001b[38;5;241m32768.0\u001b[39m\n",
      "\u001b[1;31mAttributeError\u001b[0m: module 'ffmpeg' has no attribute 'Error'"
     ]
    }
   ],
   "source": [
    "# Transcribe audio of YouTube video\n",
    "output = model.transcribe('C:/Users/Asus/PYTHON_C/GPT/Whisper/coontent/IU_Uni.mp4', language='english')     "
   ]
  },
  {
   "cell_type": "code",
   "execution_count": null,
   "id": "2e0b3f5a",
   "metadata": {
    "scrolled": false
   },
   "outputs": [],
   "source": [
    "output = model.transcribe(\"musk_interview.mp4\")\n",
    "output"
   ]
  },
  {
   "cell_type": "code",
   "execution_count": null,
   "id": "5111a68f",
   "metadata": {},
   "outputs": [],
   "source": [
    "from transformers import PegasusForConditionalGeneration, PegasusTokenizer"
   ]
  },
  {
   "cell_type": "code",
   "execution_count": null,
   "id": "cdd14a6d",
   "metadata": {},
   "outputs": [],
   "source": [
    "tokenizer = PegasusTokenizer.from_pretrained(\"google/pegasus-xsum\")"
   ]
  },
  {
   "cell_type": "code",
   "execution_count": null,
   "id": "4ac81d93",
   "metadata": {},
   "outputs": [],
   "source": [
    "summary_model = PegasusForConditionalGeneration.from_pretrained(\"google/pegasus-xsum\")"
   ]
  },
  {
   "cell_type": "code",
   "execution_count": null,
   "id": "e169aaa5",
   "metadata": {},
   "outputs": [],
   "source": [
    "tokens = tokenizer(output_text['text'], truncation=True, padding='longest', return_tensors='pt')"
   ]
  },
  {
   "cell_type": "code",
   "execution_count": null,
   "id": "3aad13e8",
   "metadata": {},
   "outputs": [],
   "source": [
    "summary = summary_model.generate(**tokens)"
   ]
  },
  {
   "cell_type": "code",
   "execution_count": null,
   "id": "797aaf93",
   "metadata": {},
   "outputs": [],
   "source": [
    "tokenizer.decode(summary[0])"
   ]
  },
  {
   "cell_type": "code",
   "execution_count": null,
   "id": "27a2a286",
   "metadata": {},
   "outputs": [],
   "source": []
  },
  {
   "cell_type": "code",
   "execution_count": null,
   "id": "6ac58ab8",
   "metadata": {},
   "outputs": [],
   "source": [
    "df = pd.read_csv('/content/about_iu.csv')\n",
    "df = df.set_index([\"title\", \"heading\"])\n",
    "print(f\"{len(df)} rows in the data.\")\n",
    "df.sample(10)"
   ]
  },
  {
   "cell_type": "code",
   "execution_count": null,
   "id": "c8ed771a",
   "metadata": {},
   "outputs": [],
   "source": [
    "example_entry = list(context_embeddings.items())[0]\n",
    "print(f\"{example_entry[0]} : {example_entry[1][:5]}... ({len(example_entry[1])} entries)\")"
   ]
  },
  {
   "cell_type": "code",
   "execution_count": null,
   "id": "ccc68ec8",
   "metadata": {},
   "outputs": [],
   "source": [
    "order_document_sections_by_query_similarity(\"Msc Data Science at IU University of Applied Science?\", context_embeddings)[:5]"
   ]
  },
  {
   "cell_type": "code",
   "execution_count": null,
   "id": "ba760326",
   "metadata": {},
   "outputs": [],
   "source": [
    "prompt = construct_prompt(\n",
    "    \"What did Elon say about Twitter?\",\n",
    "    context_embeddings,\n",
    "    df\n",
    ")\n",
    "\n",
    "print(\"===\\n\", prompt)"
   ]
  },
  {
   "cell_type": "code",
   "execution_count": null,
   "id": "65e17820",
   "metadata": {},
   "outputs": [],
   "source": [
    "answer_query_with_context(\"Tell me about Msc Data Science in IU University of Applied Science?\", df, context_embeddings)"
   ]
  },
  {
   "cell_type": "code",
   "execution_count": null,
   "id": "418e0c57",
   "metadata": {},
   "outputs": [],
   "source": []
  },
  {
   "cell_type": "code",
   "execution_count": null,
   "id": "1f155b1a",
   "metadata": {},
   "outputs": [],
   "source": []
  }
 ],
 "metadata": {
  "kernelspec": {
   "display_name": "Python [conda env:nlp_env]",
   "language": "python",
   "name": "conda-env-nlp_env-py"
  },
  "language_info": {
   "codemirror_mode": {
    "name": "ipython",
    "version": 3
   },
   "file_extension": ".py",
   "mimetype": "text/x-python",
   "name": "python",
   "nbconvert_exporter": "python",
   "pygments_lexer": "ipython3",
   "version": "3.9.16"
  },
  "varInspector": {
   "cols": {
    "lenName": 16,
    "lenType": 16,
    "lenVar": 40
   },
   "kernels_config": {
    "python": {
     "delete_cmd_postfix": "",
     "delete_cmd_prefix": "del ",
     "library": "var_list.py",
     "varRefreshCmd": "print(var_dic_list())"
    },
    "r": {
     "delete_cmd_postfix": ") ",
     "delete_cmd_prefix": "rm(",
     "library": "var_list.r",
     "varRefreshCmd": "cat(var_dic_list()) "
    }
   },
   "types_to_exclude": [
    "module",
    "function",
    "builtin_function_or_method",
    "instance",
    "_Feature"
   ],
   "window_display": false
  }
 },
 "nbformat": 4,
 "nbformat_minor": 5
}
