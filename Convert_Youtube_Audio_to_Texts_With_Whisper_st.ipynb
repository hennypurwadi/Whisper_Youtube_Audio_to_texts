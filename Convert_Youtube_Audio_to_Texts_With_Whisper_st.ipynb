{
 "cells": [
  {
   "cell_type": "markdown",
   "id": "e0cecbbb",
   "metadata": {},
   "source": [
    "https://github.com/openai/whisper?ref=mlq-ai"
   ]
  },
  {
   "cell_type": "markdown",
   "id": "9e8b6f72",
   "metadata": {},
   "source": [
    "pip uninstall ffmpeg\n",
    "\n",
    "pip uninstall ffmpeg-python\n",
    "\n",
    "pip install ffmpeg\n",
    "\n",
    "pip install ffmpeg-python\n",
    "\n",
    "conda install -c conda-forge ffmpeg"
   ]
  },
  {
   "cell_type": "code",
   "execution_count": null,
   "id": "2900bf26",
   "metadata": {},
   "outputs": [],
   "source": [
    "#!pip install -U openai-whisper\n",
    "#!pip install -— upgrade pytube\n",
    "#!pip install setuptools-rust\n",
    "#!pip install git+https://github.com/openai/whisper.git -q"
   ]
  },
  {
   "cell_type": "code",
   "execution_count": 2,
   "id": "4456b84e",
   "metadata": {},
   "outputs": [
    {
     "name": "stderr",
     "output_type": "stream",
     "text": [
      "[nltk_data] Downloading package punkt to\n",
      "[nltk_data]     C:\\Users\\Asus\\AppData\\Roaming\\nltk_data...\n",
      "[nltk_data]   Package punkt is already up-to-date!\n"
     ]
    }
   ],
   "source": [
    "import pytube\n",
    "#from pytube import YouTube\n",
    "import numpy as np\n",
    "import pandas as pd\n",
    "import whisper\n",
    "import nltk\n",
    "nltk.download('punkt')\n",
    "import warnings\n",
    "warnings.filterwarnings(\"ignore\")"
   ]
  },
  {
   "cell_type": "code",
   "execution_count": 3,
   "id": "e3d1bcd9",
   "metadata": {},
   "outputs": [
    {
     "name": "stdout",
     "output_type": "stream",
     "text": [
      "Collecting package metadata (current_repodata.json): ...working... done\n",
      "Solving environment: ...working... done\n",
      "\n",
      "# All requested packages already installed.\n",
      "\n",
      "\n",
      "Note: you may need to restart the kernel to use updated packages.\n"
     ]
    }
   ],
   "source": [
    "conda install -c conda-forge ffmpeg"
   ]
  },
  {
   "cell_type": "code",
   "execution_count": 14,
   "id": "40f16357",
   "metadata": {},
   "outputs": [
    {
     "data": {
      "text/plain": [
       "'C:\\\\Users\\\\Asus\\\\PYTHON_C\\\\GPT\\\\Whisper\\\\Brexit regret or Bregret spreads in UK.mp4'"
      ]
     },
     "execution_count": 14,
     "metadata": {},
     "output_type": "execute_result"
    }
   ],
   "source": [
    "vid = \"https://www.youtube.com/watch?v=zsxuiYFudeE\"\n",
    "data = pytube.YouTube(vid)\n",
    "audio = data.streams.get_audio_only()\n",
    "audio.download()"
   ]
  },
  {
   "cell_type": "code",
   "execution_count": 8,
   "id": "ab23f1ed",
   "metadata": {},
   "outputs": [
    {
     "name": "stdout",
     "output_type": "stream",
     "text": [
      "['__add__', '__class__', '__contains__', '__delattr__', '__dir__', '__doc__', '__eq__', '__format__', '__ge__', '__getattribute__', '__getitem__', '__getnewargs__', '__gt__', '__hash__', '__init__', '__init_subclass__', '__iter__', '__le__', '__len__', '__lt__', '__mod__', '__mul__', '__ne__', '__new__', '__reduce__', '__reduce_ex__', '__repr__', '__rmod__', '__rmul__', '__setattr__', '__sizeof__', '__str__', '__subclasshook__', 'capitalize', 'casefold', 'center', 'count', 'encode', 'endswith', 'expandtabs', 'find', 'format', 'format_map', 'index', 'isalnum', 'isalpha', 'isascii', 'isdecimal', 'isdigit', 'isidentifier', 'islower', 'isnumeric', 'isprintable', 'isspace', 'istitle', 'isupper', 'join', 'ljust', 'lower', 'lstrip', 'maketrans', 'partition', 'removeprefix', 'removesuffix', 'replace', 'rfind', 'rindex', 'rjust', 'rpartition', 'rsplit', 'rstrip', 'split', 'splitlines', 'startswith', 'strip', 'swapcase', 'title', 'translate', 'upper', 'zfill']\n"
     ]
    }
   ],
   "source": [
    "print(dir(vid))"
   ]
  },
  {
   "cell_type": "code",
   "execution_count": 15,
   "id": "10e7d121",
   "metadata": {},
   "outputs": [],
   "source": [
    "import os\n",
    "os.environ['TF_ENABLE_AUTO_MIXED_PRECISION'] = '0'"
   ]
  },
  {
   "cell_type": "code",
   "execution_count": 16,
   "id": "f2eb0b8f",
   "metadata": {},
   "outputs": [
    {
     "name": "stdout",
     "output_type": "stream",
     "text": [
      "done\n"
     ]
    }
   ],
   "source": [
    "model = whisper.load_model(\"base\")\n",
    "txt = model.transcribe(\"Brexit regret or Bregret spreads in UK.mp4\")\n",
    "print(\"done\")"
   ]
  },
  {
   "cell_type": "code",
   "execution_count": 17,
   "id": "1beefc80",
   "metadata": {},
   "outputs": [
    {
     "data": {
      "text/plain": [
       "\" Even the arrival of the milk trucks makes the cheese maker feel a little wistful. Brexit-related losses forced Simon Sparrow to sell a majority's steak in his company. I feel betrayed and really really quite let down by a government that promised much and delivered nothing. His small business used to deliver English cheddar via mail order to private customers in the EU but thanks to Brexit every single piece of cheese now requires a certificate from the veterinary office that was prohibitively expensive. There's no way anybody's going to pay another £180 plus all the paperwork that's involved. Nearby in the Northern English town of Kru few ever imagined that Brexit would be so problematic. Even in the Brexit heartlands like here in the north of England people are reversing their opinion. Pulse show that a majority now believed that Brexit was a bad idea. However this does not mean that the decision to leave the EU will be reversed at least not anytime soon. Ron Jones imports rugs from Belgium. He's also facing a lot more at a because of Brexit. It was never a good idea. It was never a good idea but it was the will of the people. More and more studies show that post Brexit trade barriers are harming the British economy. And the lack of EU workers has caused labour shortages. I don't think it's as well as we thought it would but we did want to be ourselves again really. The doctors are stopped coming you know and the nurses there you know we are so down now. It's been an unmitigated disaster. Absolute disaster. In the meantime Simon Spiral is managing to sell cheese at a profit in the EU again via the European hub of the new majority shareholder. The cheesemaker would have never dreamt that Brexit would have caused him so many sleepless nights.\""
      ]
     },
     "execution_count": 17,
     "metadata": {},
     "output_type": "execute_result"
    }
   ],
   "source": [
    "#transcribed print\n",
    "txt['text']"
   ]
  },
  {
   "cell_type": "code",
   "execution_count": 18,
   "id": "418e0c57",
   "metadata": {},
   "outputs": [
    {
     "data": {
      "text/html": [
       "<div>\n",
       "<style scoped>\n",
       "    .dataframe tbody tr th:only-of-type {\n",
       "        vertical-align: middle;\n",
       "    }\n",
       "\n",
       "    .dataframe tbody tr th {\n",
       "        vertical-align: top;\n",
       "    }\n",
       "\n",
       "    .dataframe thead th {\n",
       "        text-align: right;\n",
       "    }\n",
       "</style>\n",
       "<table border=\"1\" class=\"dataframe\">\n",
       "  <thead>\n",
       "    <tr style=\"text-align: right;\">\n",
       "      <th></th>\n",
       "      <th>word</th>\n",
       "    </tr>\n",
       "  </thead>\n",
       "  <tbody>\n",
       "    <tr>\n",
       "      <th>0</th>\n",
       "      <td>Even</td>\n",
       "    </tr>\n",
       "    <tr>\n",
       "      <th>1</th>\n",
       "      <td>the</td>\n",
       "    </tr>\n",
       "    <tr>\n",
       "      <th>2</th>\n",
       "      <td>arrival</td>\n",
       "    </tr>\n",
       "    <tr>\n",
       "      <th>3</th>\n",
       "      <td>of</td>\n",
       "    </tr>\n",
       "    <tr>\n",
       "      <th>4</th>\n",
       "      <td>the</td>\n",
       "    </tr>\n",
       "  </tbody>\n",
       "</table>\n",
       "</div>"
      ],
      "text/plain": [
       "      word\n",
       "0     Even\n",
       "1      the\n",
       "2  arrival\n",
       "3       of\n",
       "4      the"
      ]
     },
     "execution_count": 18,
     "metadata": {},
     "output_type": "execute_result"
    }
   ],
   "source": [
    "# Tokenize transcribed text as words\n",
    "tokens = txt['text'].split()\n",
    "\n",
    "# Create a pandas dataframe\n",
    "df = pd.DataFrame(tokens, columns=['word'])\n",
    "df.head()"
   ]
  },
  {
   "cell_type": "code",
   "execution_count": 19,
   "id": "d7fe9a88",
   "metadata": {},
   "outputs": [
    {
     "data": {
      "text/html": [
       "<div>\n",
       "<style scoped>\n",
       "    .dataframe tbody tr th:only-of-type {\n",
       "        vertical-align: middle;\n",
       "    }\n",
       "\n",
       "    .dataframe tbody tr th {\n",
       "        vertical-align: top;\n",
       "    }\n",
       "\n",
       "    .dataframe thead th {\n",
       "        text-align: right;\n",
       "    }\n",
       "</style>\n",
       "<table border=\"1\" class=\"dataframe\">\n",
       "  <thead>\n",
       "    <tr style=\"text-align: right;\">\n",
       "      <th></th>\n",
       "      <th>sentence</th>\n",
       "    </tr>\n",
       "  </thead>\n",
       "  <tbody>\n",
       "    <tr>\n",
       "      <th>0</th>\n",
       "      <td>Even the arrival of the milk trucks makes the cheese maker feel a little wistful.</td>\n",
       "    </tr>\n",
       "    <tr>\n",
       "      <th>1</th>\n",
       "      <td>Brexit-related losses forced Simon Sparrow to sell a majority's steak in his company.</td>\n",
       "    </tr>\n",
       "    <tr>\n",
       "      <th>2</th>\n",
       "      <td>I feel betrayed and really really quite let down by a government that promised much and delivered nothing.</td>\n",
       "    </tr>\n",
       "    <tr>\n",
       "      <th>3</th>\n",
       "      <td>His small business used to deliver English cheddar via mail order to private customers in the EU but thanks to Brexit every single piece of cheese now requi...</td>\n",
       "    </tr>\n",
       "    <tr>\n",
       "      <th>4</th>\n",
       "      <td>There's no way anybody's going to pay another £180 plus all the paperwork that's involved.</td>\n",
       "    </tr>\n",
       "    <tr>\n",
       "      <th>5</th>\n",
       "      <td>Nearby in the Northern English town of Kru few ever imagined that Brexit would be so problematic.</td>\n",
       "    </tr>\n",
       "    <tr>\n",
       "      <th>6</th>\n",
       "      <td>Even in the Brexit heartlands like here in the north of England people are reversing their opinion.</td>\n",
       "    </tr>\n",
       "    <tr>\n",
       "      <th>7</th>\n",
       "      <td>Pulse show that a majority now believed that Brexit was a bad idea.</td>\n",
       "    </tr>\n",
       "    <tr>\n",
       "      <th>8</th>\n",
       "      <td>However this does not mean that the decision to leave the EU will be reversed at least not anytime soon.</td>\n",
       "    </tr>\n",
       "    <tr>\n",
       "      <th>9</th>\n",
       "      <td>Ron Jones imports rugs from Belgium.</td>\n",
       "    </tr>\n",
       "    <tr>\n",
       "      <th>10</th>\n",
       "      <td>He's also facing a lot more at a because of Brexit.</td>\n",
       "    </tr>\n",
       "    <tr>\n",
       "      <th>11</th>\n",
       "      <td>It was never a good idea.</td>\n",
       "    </tr>\n",
       "    <tr>\n",
       "      <th>12</th>\n",
       "      <td>It was never a good idea but it was the will of the people.</td>\n",
       "    </tr>\n",
       "    <tr>\n",
       "      <th>13</th>\n",
       "      <td>More and more studies show that post Brexit trade barriers are harming the British economy.</td>\n",
       "    </tr>\n",
       "    <tr>\n",
       "      <th>14</th>\n",
       "      <td>And the lack of EU workers has caused labour shortages.</td>\n",
       "    </tr>\n",
       "    <tr>\n",
       "      <th>15</th>\n",
       "      <td>I don't think it's as well as we thought it would but we did want to be ourselves again really.</td>\n",
       "    </tr>\n",
       "    <tr>\n",
       "      <th>16</th>\n",
       "      <td>The doctors are stopped coming you know and the nurses there you know we are so down now.</td>\n",
       "    </tr>\n",
       "    <tr>\n",
       "      <th>17</th>\n",
       "      <td>It's been an unmitigated disaster.</td>\n",
       "    </tr>\n",
       "    <tr>\n",
       "      <th>18</th>\n",
       "      <td>Absolute disaster.</td>\n",
       "    </tr>\n",
       "    <tr>\n",
       "      <th>19</th>\n",
       "      <td>In the meantime Simon Spiral is managing to sell cheese at a profit in the EU again via the European hub of the new majority shareholder.</td>\n",
       "    </tr>\n",
       "    <tr>\n",
       "      <th>20</th>\n",
       "      <td>The cheesemaker would have never dreamt that Brexit would have caused him so many sleepless nights.</td>\n",
       "    </tr>\n",
       "  </tbody>\n",
       "</table>\n",
       "</div>"
      ],
      "text/plain": [
       "                                                                                                                                                           sentence\n",
       "0                                                                                 Even the arrival of the milk trucks makes the cheese maker feel a little wistful.\n",
       "1                                                                             Brexit-related losses forced Simon Sparrow to sell a majority's steak in his company.\n",
       "2                                                        I feel betrayed and really really quite let down by a government that promised much and delivered nothing.\n",
       "3   His small business used to deliver English cheddar via mail order to private customers in the EU but thanks to Brexit every single piece of cheese now requi...\n",
       "4                                                                        There's no way anybody's going to pay another £180 plus all the paperwork that's involved.\n",
       "5                                                                 Nearby in the Northern English town of Kru few ever imagined that Brexit would be so problematic.\n",
       "6                                                               Even in the Brexit heartlands like here in the north of England people are reversing their opinion.\n",
       "7                                                                                               Pulse show that a majority now believed that Brexit was a bad idea.\n",
       "8                                                          However this does not mean that the decision to leave the EU will be reversed at least not anytime soon.\n",
       "9                                                                                                                              Ron Jones imports rugs from Belgium.\n",
       "10                                                                                                              He's also facing a lot more at a because of Brexit.\n",
       "11                                                                                                                                        It was never a good idea.\n",
       "12                                                                                                      It was never a good idea but it was the will of the people.\n",
       "13                                                                      More and more studies show that post Brexit trade barriers are harming the British economy.\n",
       "14                                                                                                          And the lack of EU workers has caused labour shortages.\n",
       "15                                                                  I don't think it's as well as we thought it would but we did want to be ourselves again really.\n",
       "16                                                                        The doctors are stopped coming you know and the nurses there you know we are so down now.\n",
       "17                                                                                                                               It's been an unmitigated disaster.\n",
       "18                                                                                                                                               Absolute disaster.\n",
       "19                        In the meantime Simon Spiral is managing to sell cheese at a profit in the EU again via the European hub of the new majority shareholder.\n",
       "20                                                              The cheesemaker would have never dreamt that Brexit would have caused him so many sleepless nights."
      ]
     },
     "execution_count": 19,
     "metadata": {},
     "output_type": "execute_result"
    }
   ],
   "source": [
    "#Create sentences dataframes\n",
    "sentences = nltk.sent_tokenize(txt['text'])\n",
    "df = pd.DataFrame(sentences, columns=['sentence'])\n",
    "pd.set_option('display.max_colwidth', 160)\n",
    "df.head(60)"
   ]
  },
  {
   "cell_type": "code",
   "execution_count": 20,
   "id": "52b20eda",
   "metadata": {},
   "outputs": [
    {
     "data": {
      "text/plain": [
       "(21, 1)"
      ]
     },
     "execution_count": 20,
     "metadata": {},
     "output_type": "execute_result"
    }
   ],
   "source": [
    "df.shape"
   ]
  },
  {
   "cell_type": "code",
   "execution_count": 21,
   "id": "0a67d88d",
   "metadata": {},
   "outputs": [],
   "source": [
    "df.to_csv(\"Bachelor_Phd_Thesis.csv\", index=False)"
   ]
  },
  {
   "cell_type": "code",
   "execution_count": 22,
   "id": "916ca52a",
   "metadata": {},
   "outputs": [
    {
     "data": {
      "text/html": [
       "<div>\n",
       "<style scoped>\n",
       "    .dataframe tbody tr th:only-of-type {\n",
       "        vertical-align: middle;\n",
       "    }\n",
       "\n",
       "    .dataframe tbody tr th {\n",
       "        vertical-align: top;\n",
       "    }\n",
       "\n",
       "    .dataframe thead th {\n",
       "        text-align: right;\n",
       "    }\n",
       "</style>\n",
       "<table border=\"1\" class=\"dataframe\">\n",
       "  <thead>\n",
       "    <tr style=\"text-align: right;\">\n",
       "      <th></th>\n",
       "      <th>sentence</th>\n",
       "    </tr>\n",
       "  </thead>\n",
       "  <tbody>\n",
       "  </tbody>\n",
       "</table>\n",
       "</div>"
      ],
      "text/plain": [
       "Empty DataFrame\n",
       "Columns: [sentence]\n",
       "Index: []"
      ]
     },
     "execution_count": 22,
     "metadata": {},
     "output_type": "execute_result"
    }
   ],
   "source": [
    "df_61_onwards = df.iloc[60:]\n",
    "pd.set_option('display.max_colwidth', 160)\n",
    "df_61_onwards.head(60)"
   ]
  },
  {
   "cell_type": "code",
   "execution_count": 23,
   "id": "e5ff8cff",
   "metadata": {},
   "outputs": [
    {
     "name": "stdout",
     "output_type": "stream",
     "text": [
      "Overwriting vid2text.py\n"
     ]
    }
   ],
   "source": [
    "%%writefile vid2text.py\n",
    "\n",
    "import io\n",
    "import wave\n",
    "import numpy as np\n",
    "import streamlit as st\n",
    "import requests\n",
    "import whisper\n",
    "import nltk\n",
    "import tempfile\n",
    "from moviepy.video.io.ffmpeg_reader import FFMPEG_VideoReader\n",
    "\n",
    "# Download the NLTK tokenizer models\n",
    "nltk.download('punkt')\n",
    "\n",
    "# Load the WhisPer speech recognition model\n",
    "model = whisper.load_model(\"base\")\n",
    "\n",
    "# Define a function to transcribe the audio file and return the text\n",
    "def transcribe_audio(audio_file):\n",
    "    # Read the audio data using the wave module\n",
    "    with wave.open(audio_file, 'rb') as audio_file:\n",
    "        audio_params = audio_file.getparams()\n",
    "        audio_frames = audio_file.readframes(audio_params.nframes)\n",
    "\n",
    "    # Convert the audio data to a NumPy array\n",
    "    audio_array = np.frombuffer(audio_frames, dtype=np.int16)\n",
    "\n",
    "    # Transcribe the audio array and return the text\n",
    "    txt = model.transcribe(audio_array)\n",
    "    return txt['text']\n",
    "\n",
    "# Define the Streamlit app\n",
    "def main():\n",
    "    st.title(\"Convert YouTube MP4 Video Audio to Text Transcription\")\n",
    "\n",
    "    # Get the YouTube link from the user\n",
    "    video_url = st.text_input(\"Enter a YouTube link:\")\n",
    "\n",
    "    if video_url:\n",
    "        try:\n",
    "            # Download the video from the YouTube link\n",
    "            headers = {\"Range\": \"bytes=0-\"}\n",
    "            response = requests.get(video_url, headers=headers, stream=True)\n",
    "            video_data = io.BytesIO()\n",
    "            for chunk in response.iter_content(chunk_size=4096):\n",
    "                video_data.write(chunk)\n",
    "            video_data.seek(0)\n",
    "\n",
    "            # Extract the audio from the video and save to a temporary file\n",
    "            video_reader = FFMPEG_VideoReader(video_data)\n",
    "            audio_data = video_reader.audio\n",
    "            with tempfile.NamedTemporaryFile(suffix=\".wav\") as audio_file:\n",
    "                audio_file.write(audio_data.tobytes())\n",
    "                audio_file.flush()\n",
    "\n",
    "                # Transcribe the audio file and show the text\n",
    "                with open(audio_file.name, 'rb') as f:\n",
    "                    text = transcribe_audio(f)\n",
    "                    st.header(\"Transcription\")\n",
    "                    st.write(text)\n",
    "        except Exception as e:\n",
    "            st.error(str(e))\n",
    "\n",
    "# Run the Streamlit app\n",
    "if __name__ == '__main__':\n",
    "    main()\n"
   ]
  },
  {
   "cell_type": "code",
   "execution_count": null,
   "id": "c242d3c7",
   "metadata": {},
   "outputs": [],
   "source": []
  }
 ],
 "metadata": {
  "kernelspec": {
   "display_name": "Python 3 (ipykernel)",
   "language": "python",
   "name": "python3"
  },
  "language_info": {
   "codemirror_mode": {
    "name": "ipython",
    "version": 3
   },
   "file_extension": ".py",
   "mimetype": "text/x-python",
   "name": "python",
   "nbconvert_exporter": "python",
   "pygments_lexer": "ipython3",
   "version": "3.9.13"
  },
  "varInspector": {
   "cols": {
    "lenName": 16,
    "lenType": 16,
    "lenVar": 40
   },
   "kernels_config": {
    "python": {
     "delete_cmd_postfix": "",
     "delete_cmd_prefix": "del ",
     "library": "var_list.py",
     "varRefreshCmd": "print(var_dic_list())"
    },
    "r": {
     "delete_cmd_postfix": ") ",
     "delete_cmd_prefix": "rm(",
     "library": "var_list.r",
     "varRefreshCmd": "cat(var_dic_list()) "
    }
   },
   "types_to_exclude": [
    "module",
    "function",
    "builtin_function_or_method",
    "instance",
    "_Feature"
   ],
   "window_display": false
  }
 },
 "nbformat": 4,
 "nbformat_minor": 5
}
